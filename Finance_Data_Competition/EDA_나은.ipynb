{
  "nbformat": 4,
  "nbformat_minor": 0,
  "metadata": {
    "colab": {
      "name": "EDA_나은.ipynb",
      "provenance": [],
      "collapsed_sections": []
    },
    "kernelspec": {
      "name": "python3",
      "display_name": "Python 3"
    },
    "language_info": {
      "name": "python"
    }
  },
  "cells": [
    {
      "cell_type": "markdown",
      "metadata": {
        "id": "oF7L9ZB3MwaN"
      },
      "source": [
        "### 1. 구글 드라이브와 구글 코랩 연결하기\n",
        "##### (1) 연결을 위한 패키지 불러오고 경로 지정하기\n",
        "- **연결하기 위해서는 데이터셋을 본인의 드라이브로 가져가는 과정이 필요**  \n",
        "  공유폴더 > 데이터 공모전 폴더 > 마우스 오른쪽 버튼 > 내 드라이브에 바로가기 추가 후 사용\n",
        "- 아래 코드 실행 후 url 뜨면 클릭하고 로그인하기\n",
        "- 나온 KEY 값 복사해서 코드 아래 직사각형 네모창에 붙여넣고 엔터치면 완료"
      ]
    },
    {
      "cell_type": "code",
      "metadata": {
        "colab": {
          "base_uri": "https://localhost:8080/"
        },
        "id": "VQIQPffmMten",
        "outputId": "3916e82c-dffa-49d3-bfe3-b85e0c4f535d"
      },
      "source": [
        "from google.colab import drive # 패키지 불러오기 \n",
        "from os.path import join  \n",
        "\n",
        "ROOT = \"/content/drive\"     # 드라이브 기본 경로\n",
        "print(ROOT)                 # print content of ROOT (Optional)\n",
        "drive.mount(ROOT)           # 드라이브 기본 경로 Mount\n",
        "\n",
        "# 또는 그냥 아래와 같이 한 줄로만 해도 가능\n",
        "# drive.mount('/content/drive')\n",
        "\n",
        "# 구글 드라이브 내의 데이터 공모전 파일까지 접근하기\n",
        "MY_GOOGLE_DRIVE_PATH = 'My Drive/데이터공모전/code' # 프로젝트 경로\n",
        "PROJECT_PATH = join(ROOT, MY_GOOGLE_DRIVE_PATH) # 프로젝트 경로\n",
        "print(PROJECT_PATH)"
      ],
      "execution_count": 5,
      "outputs": [
        {
          "output_type": "stream",
          "name": "stdout",
          "text": [
            "/content/drive\n",
            "Mounted at /content/drive\n",
            "/content/drive/My Drive/데이터공모전/code\n"
          ]
        }
      ]
    },
    {
      "cell_type": "markdown",
      "metadata": {
        "id": "Motk0Q_EM8K1"
      },
      "source": [
        "- 경로 제대로 설정되었는지 확인하기\n",
        "\n"
      ]
    },
    {
      "cell_type": "code",
      "metadata": {
        "colab": {
          "base_uri": "https://localhost:8080/"
        },
        "id": "sLSawWZlNNdI",
        "outputId": "7f4f898d-2480-4de2-e7de-bf96f527636e"
      },
      "source": [
        "%cd \"{PROJECT_PATH}\""
      ],
      "execution_count": 6,
      "outputs": [
        {
          "output_type": "stream",
          "name": "stdout",
          "text": [
            "/content/drive/My Drive/데이터공모전/code\n"
          ]
        }
      ]
    },
    {
      "cell_type": "markdown",
      "metadata": {
        "id": "jZTSaHWvM_FE"
      },
      "source": [
        "### 2. 데이터 불러오기\n",
        "- 관련 패키지 설치"
      ]
    },
    {
      "cell_type": "code",
      "metadata": {
        "id": "3rWkD6DJNGw5"
      },
      "source": [
        "# 데이터프레임 처리를 위한 pandas, 수학 처리를 위한 numpy\n",
        "import pandas as pd\n",
        "import numpy as np\n",
        "\n",
        "# 시각화에 사용할 seaboran과 matplotlib\n",
        "import seaborn as sns\n",
        "import matplotlib.pyplot as plt\n",
        "%matplotlib inline\n",
        "import matplotlib as mpl  # 기본 설정\n",
        "import matplotlib.font_manager as fm  # 폰트\n",
        "\n",
        "from pylab import rcParams\n",
        "plt.rcParams['axes.unicode_minus'] = False\n",
        "\n",
        "import warnings\n",
        "warnings.filterwarnings('ignore')"
      ],
      "execution_count": 7,
      "outputs": []
    },
    {
      "cell_type": "markdown",
      "metadata": {
        "id": "YB2u0wGpNJhf"
      },
      "source": [
        "##### (1) 데이터 변수에 넣기\n",
        "- 위에서 경로를 '데이터공모전/code'까지 설정해줬기 때문에 code 이후 달라지는 경로부터 지정하면 됨\n",
        "- code/data 내에 데이터셋이 들어있으니 아래처럼 data/파일명.xlsx 하면 됨\n",
        "- 아래 원본데이터 변수명을 길게 쓴 이유는 서울 지역 데이터 셋만 뽑은 것을 기본값 변수로 사용하기 위함  \n",
        "  ex) firm_raw: 원본 / firm: 서울 지역 데이터"
      ]
    },
    {
      "cell_type": "code",
      "metadata": {
        "colab": {
          "base_uri": "https://localhost:8080/"
        },
        "id": "xgFcB7mgNHs3",
        "outputId": "ead367a2-60f6-4056-cd79-81990eb08196"
      },
      "source": [
        "# 데이터 불러오기: 데이터 비공개로 on하지 않음\n",
        "# firm_raw = pd.DataFrame(pd.read_excel('data/기업통계_금융보안원2.xlsx'))\n",
        "# new_firm_raw = pd.DataFrame(pd.read_excel('data/신설법인_금융보안원.xlsx'))\n",
        "# food_raw = pd.DataFrame(pd.read_csv('data/KB국민카드_금융빅데이터경진대회_데이터_raw2.csv'))\n",
        "\n",
        "# 데이터가 다 불러와졌으면 아래 문구 출력하기\n",
        "print(\"Data import is done!\")"
      ],
      "execution_count": 9,
      "outputs": [
        {
          "output_type": "stream",
          "name": "stdout",
          "text": [
            "Data import is done!\n"
          ]
        }
      ]
    },
    {
      "cell_type": "markdown",
      "metadata": {
        "id": "peSKdjjIPgRH"
      },
      "source": [
        "### 3. 데이터 탐색 및 전처리\n",
        "(1) 데이터 기본 정보 확인하기\n",
        "- **신설법인데이터**"
      ]
    },
    {
      "cell_type": "code",
      "metadata": {
        "id": "iNV9oZGStO6C"
      },
      "source": [
        "# new_firm_raw"
      ],
      "execution_count": 10,
      "outputs": []
    },
    {
      "cell_type": "markdown",
      "metadata": {
        "id": "fa3jvBSNJvn4"
      },
      "source": [
        "(2) 필요한 데이터만 뽑기\n",
        "- 서울특별시 내 데이터만 남기기"
      ]
    },
    {
      "cell_type": "code",
      "metadata": {
        "id": "W4zOXmmRysj9"
      },
      "source": [
        "new_firm = new_firm_raw[new_firm_raw['시도']=='서울']"
      ],
      "execution_count": null,
      "outputs": []
    },
    {
      "cell_type": "code",
      "metadata": {
        "id": "SD7bVHj-zGFp"
      },
      "source": [
        "# new_firm['업종코드_10차'].value_counts()"
      ],
      "execution_count": null,
      "outputs": []
    },
    {
      "cell_type": "markdown",
      "metadata": {
        "id": "QtjPOPjAJJN1"
      },
      "source": [
        "- 업종코드 10차 데이터 불러와서 결합하기"
      ]
    },
    {
      "cell_type": "code",
      "metadata": {
        "id": "l0Z2pCvvy8ZV"
      },
      "source": [
        "industry_code = pd.DataFrame(pd.read_excel('data/ect/업종코드_10차.xlsx'))\n",
        "industry_code = industry_code.rename(columns = {'코드':'업종코드_10차'})"
      ],
      "execution_count": null,
      "outputs": []
    },
    {
      "cell_type": "code",
      "metadata": {
        "id": "KZ72xVBcPzvY"
      },
      "source": [
        "new_firm = new_firm.join(industry_code.set_index('업종코드_10차')['항목명'], on = '업종코드_10차')\n",
        "new_firm = new_firm.join(industry_code.set_index('업종코드_10차')['세세분류항목명'], on = '업종코드_10차')\n",
        "new_firm = new_firm.rename(columns={'항목명':'업종대분류명', '세세분류항목명':'업종중분류명'})"
      ],
      "execution_count": null,
      "outputs": []
    },
    {
      "cell_type": "code",
      "metadata": {
        "id": "bYu2d-smHvma"
      },
      "source": [
        "# new_firm.head(2)"
      ],
      "execution_count": 11,
      "outputs": []
    },
    {
      "cell_type": "markdown",
      "metadata": {
        "id": "enY8XTXiTo8Y"
      },
      "source": [
        "- 설립연도 열만들기"
      ]
    },
    {
      "cell_type": "code",
      "metadata": {
        "id": "5yVN6LZETog5"
      },
      "source": [
        "new_firm['설립연도'] = new_firm['설립일자'].astype(str).str[:4]\n",
        "new_firm['개수']=1"
      ],
      "execution_count": null,
      "outputs": []
    },
    {
      "cell_type": "code",
      "metadata": {
        "id": "oc9U3lCu1EGF"
      },
      "source": [
        "########### 송이 데이터: 법정동별 top3 음식점 업태 ###########\n",
        "# pd.set_option('display.max_rows', 7000)\n",
        "# food_permission_pivot = pd.DataFrame(food_permission.groupby(['구','동가로','업태구분명'], as_index=False)['업태개수'].sum())\n",
        "\n",
        "# total = pd.DataFrame(columns=food_permission_pivot.columns)\n",
        "\n",
        "# dongs = food_permission_pivot['동가로'].drop_duplicates(keep='first')\n",
        "\n",
        "# for dong in dongs:\n",
        "#   tmp = food_permission_pivot[food_permission_pivot['동가로'].str.contains(dong)].sort_values(by=['업태개수'], ascending=False)\n",
        "#   total = total.append(tmp.head(3), ignore_index=True)\n",
        "\n",
        "# pd.DataFrame(total.groupby(['구','동가로', '업태구분명'])['업태개수'].sum())"
      ],
      "execution_count": null,
      "outputs": []
    },
    {
      "cell_type": "markdown",
      "metadata": {
        "id": "quLlfr1VYwaO"
      },
      "source": [
        "- 지역명 통일"
      ]
    },
    {
      "cell_type": "code",
      "metadata": {
        "id": "NVjQfSiSY2Hf"
      },
      "source": [
        "new_firm['행정동'] = new_firm['행정동'].str.replace('제','')"
      ],
      "execution_count": null,
      "outputs": []
    },
    {
      "cell_type": "code",
      "metadata": {
        "id": "3dfZxy5MYLoY"
      },
      "source": [
        "new_firm.loc[(new_firm['행정동'] == '창신1동'), '동'] = '창신동'"
      ],
      "execution_count": null,
      "outputs": []
    },
    {
      "cell_type": "markdown",
      "metadata": {
        "id": "Sabl8kZEk-pV"
      },
      "source": [
        "- 가장 많은 업종대분류인 '도매 및 소매업' 제거"
      ]
    },
    {
      "cell_type": "code",
      "metadata": {
        "id": "ovbUZ8Ff7eSh"
      },
      "source": [
        "new_firm_cv = new_firm\n",
        "condition = new_firm_cv[new_firm_cv['업종대분류명'] == '도매 및 소매업'].index\n",
        "new_firm = new_firm_cv.drop(condition)"
      ],
      "execution_count": null,
      "outputs": []
    },
    {
      "cell_type": "markdown",
      "metadata": {
        "id": "LfLB9nS9lHqW"
      },
      "source": [
        "- 행정동 숫자 모두 제거하고 합치기"
      ]
    },
    {
      "cell_type": "code",
      "metadata": {
        "id": "_J_qn5QdnCyr"
      },
      "source": [
        "# # new_firm_h_dong = new_firm[\n",
        "# new_firm['행정동'] = new_firm['행정동'].str.replace(pat='(.*)제[0-9]', repl=r'', regex=True)\n",
        "\n",
        "# new_firm['행정동'].value_counts()\n",
        "# # '(.*)li(.*)', r'\\1LI\\2', regex=True)"
      ],
      "execution_count": null,
      "outputs": []
    },
    {
      "cell_type": "code",
      "metadata": {
        "id": "H8IgEo2TlNHj"
      },
      "source": [
        "# import re\n",
        "# new_firm_h_dong = re.sub(r'', '+[0-9]+', '', new_firm[new_firm['행정동']])\n",
        "# new_firm_h_dong"
      ],
      "execution_count": null,
      "outputs": []
    },
    {
      "cell_type": "code",
      "metadata": {
        "id": "QdNMipodeAO4"
      },
      "source": [
        "pd.set_option('display.max_rows', 50000)\n",
        "new_firm_group = pd.DataFrame(new_firm.groupby(['구군','행정동','업종대분류명', '설립연도'], as_index=False)['개수'].sum())\n",
        "# .sort_values(by=['구군','행정동']\n",
        "# new_firm_pivot = new_firm.pivot(index=['시도','구군','업종중분류명','설립연월'], columns='개수')\n",
        "\n",
        "total = pd.DataFrame(columns = new_firm_group.columns)\n",
        "dongs = new_firm_group['행정동'].drop_duplicates(keep='first')\n",
        "\n",
        "for dong in dongs:\n",
        "  tmp = new_firm_group[new_firm_group['행정동'].str.contains(dong)].sort_values(by=['개수'], ascending=False)\n",
        "  total = total.append(tmp.head(1), ignore_index=True)\n",
        "\n",
        "pd.DataFrame(total.groupby(['구군','행정동','업종대분류명'])['개수'].sum())\n",
        "# append(new_firm_group.head(3))\n",
        "\n",
        "#total.append(tmp.head(3), ignore_index=True)"
      ],
      "execution_count": 12,
      "outputs": []
    },
    {
      "cell_type": "code",
      "metadata": {
        "id": "UI1a-QemO_vy"
      },
      "source": [
        "new_firm_pt = pd.pivot_table(new_firm_group,\n",
        "                             index = ['구군', '행정동', '업종대분류명'],\n",
        "                             columns = '설립연도',\n",
        "                             values = '개수',\n",
        "                             aggfunc = ['sum'])\n",
        "\n",
        "# new_firm_pt"
      ],
      "execution_count": 13,
      "outputs": []
    },
    {
      "cell_type": "code",
      "metadata": {
        "id": "Z_WDpBH-iF4k"
      },
      "source": [
        "# new_firm_group_row = len(new_firm_group)\n",
        "# new_firm_group_col = len(new_firm_group.columns)\n",
        "# new_firm_group_names = new_firm_group.columns.tolist()\n",
        "\n",
        "# for i in range( new_firm_group_col ) :\n",
        "#   try :\n",
        "#     sns.distplot(new_firm_group[new_firm_group_names[i]], kde=False, rug=True) \n",
        "#     plt.show()\n",
        "#   except :\n",
        "#     pass"
      ],
      "execution_count": null,
      "outputs": []
    },
    {
      "cell_type": "markdown",
      "metadata": {
        "id": "m_nZG5zWKphz"
      },
      "source": [
        "- 각 구별 행정동 개수 확인하기"
      ]
    },
    {
      "cell_type": "code",
      "metadata": {
        "id": "RmQFEwnS5wrO"
      },
      "source": [
        "pd.set_option('display.max_rows', 7000)\n",
        "new_firm_pivot = pd.DataFrame(new_firm.groupby(['구군','행정동'], as_index=False)['개수'].sum())\n",
        "new_firm_pivot['개수']=1"
      ],
      "execution_count": null,
      "outputs": []
    },
    {
      "cell_type": "code",
      "metadata": {
        "id": "9dnueCOsM5zj"
      },
      "source": [
        "new_firm_pivot.pivot_table(index='구군', values='개수', aggfunc=sum)"
      ],
      "execution_count": null,
      "outputs": []
    },
    {
      "cell_type": "code",
      "metadata": {
        "id": "kqN3vYC_Y-f7"
      },
      "source": [
        "plt.rc('font', family='NanumBarunGothic')\n",
        "plt.figure(figsize=(20,14))\n",
        "sns.countplot(x='구군', data=new_firm)\n",
        "plt.xticks(rotation=45)\n",
        "plt.rcParams['font.family'] = 'NanumGothic'\n",
        "plt.rcParams['font.size'] =20"
      ],
      "execution_count": null,
      "outputs": []
    },
    {
      "cell_type": "markdown",
      "metadata": {
        "id": "WUPn8KwSY3qC"
      },
      "source": [
        "- 서울특별시 영등포구 여의도동 동데이터로 실습"
      ]
    },
    {
      "cell_type": "code",
      "metadata": {
        "id": "r3GDz9v5cyVh"
      },
      "source": [
        "new_firm_yeouido = new_firm[new_firm['행정동'].str.contains('여의도', na=False)]\n",
        "new_firm_yeouido.head(2)"
      ],
      "execution_count": 14,
      "outputs": []
    },
    {
      "cell_type": "code",
      "metadata": {
        "id": "qqElfiIfLJiH"
      },
      "source": [
        "new_firm_yeouido_pivot = pd.DataFrame(new_firm_yeouido.groupby(['업종대분류명', '업종중분류명'],as_index=False)['개수'].count())\n",
        "new_firm_yeouido_pivot"
      ],
      "execution_count": 15,
      "outputs": []
    },
    {
      "cell_type": "code",
      "metadata": {
        "id": "Bbkc9C7perwC"
      },
      "source": [
        "new_firm_yeouido.sort_values(by=\"업종중분류명\", ascending=False)"
      ],
      "execution_count": 16,
      "outputs": []
    },
    {
      "cell_type": "markdown",
      "metadata": {
        "id": "suWxNOSpJH3K"
      },
      "source": [
        "### 4. 지도로 시각화하기\n",
        "1) 첫 번째 시도: plotly & mapbox\n",
        "   - 그림이 그려지지 않음"
      ]
    },
    {
      "cell_type": "code",
      "metadata": {
        "id": "SHl6kP_DIfBL"
      },
      "source": [
        "import plotly.express as px\n",
        "\n",
        "fig = px.scatter_mapbox(new_firm, lat='위도', lon='경도', hover_name='기업명', hover_data=['시도', '구군'],\n",
        "                        color_discrete_sequence=['fuchsia'], zoom=5, height=400)\n",
        "fig.update_layout(mapbox_style='open-street-map')\n",
        "fig.update_layout(margin={'r':0,'t':0,'l':0,'b':0})\n",
        "fig.show()"
      ],
      "execution_count": null,
      "outputs": []
    },
    {
      "cell_type": "markdown",
      "metadata": {
        "id": "Ba7i46WxYXTS"
      },
      "source": [
        "2) 두 번째 시도: json, folium\n",
        "   - error 발생"
      ]
    },
    {
      "cell_type": "code",
      "metadata": {
        "id": "Q522741sQN6P"
      },
      "source": [
        "geo_data = 'data/ect/seoul'"
      ],
      "execution_count": null,
      "outputs": []
    },
    {
      "cell_type": "code",
      "metadata": {
        "id": "syLTV17HW9H2"
      },
      "source": [
        "import json\n",
        "\n",
        "class NumpyEncoder(json.JSONEncoder):\n",
        "    \"\"\" Custom encoder for numpy data types \"\"\"\n",
        "    def default(self, obj):\n",
        "        if isinstance(obj, (np.int_, np.intc, np.intp, np.int8,\n",
        "                            np.int16, np.int32, np.int64, np.uint8,\n",
        "                            np.uint16, np.uint32, np.uint64)):\n",
        "\n",
        "            return int(obj)\n",
        "\n",
        "        elif isinstance(obj, (np.float_, np.float16, np.float32, np.float64)):\n",
        "            return float(obj)\n",
        "        \n",
        "        elif isinstance(obj, (np.complex_, np.complex64, np.complex128)):\n",
        "            return {'real': obj.real, 'imag': obj.imag}\n",
        "        \n",
        "        elif isinstance(obj, (np.ndarray,)):\n",
        "            return obj.tolist()\n",
        "    \n",
        "        elif isinstance(obj, (np.bool_)):\n",
        "            return bool(obj)\n",
        "\n",
        "        elif isinstance(obj, (np.void)): \n",
        "            return None\n",
        "\n",
        "        return json.JSONEncoder.default(self, obj)\n",
        "\n",
        "\n",
        "if __name__ == '__main__':\n",
        "    numpy_encoder = NumpyEncoder()"
      ],
      "execution_count": null,
      "outputs": []
    },
    {
      "cell_type": "code",
      "metadata": {
        "id": "-jHj1Md0Ii_w"
      },
      "source": [
        "import folium\n",
        "map_seoul = folium.Map(location=[37.541, 126.986], zoom_start=11)   \n",
        "map_seoul            "
      ],
      "execution_count": null,
      "outputs": []
    },
    {
      "cell_type": "code",
      "metadata": {
        "id": "84suobXQO3D5"
      },
      "source": [
        "import folium\n",
        "map_seoul = folium.Map(location=[37.541, 126.986])\n",
        "\n",
        "for i in new_firm.index:\n",
        "  lat = new_firm.loc[i,'위도']\n",
        "  lon = new_firm.loc[i,'경도']\n",
        "  folium.CircleMarker([lat,lon],\n",
        "                      radius=new_firm.loc[i,'개수'],\n",
        "                      popup=new_firm.loc[i,'행정동'],\n",
        "                      color = 'blue',\n",
        "                      fill = True).add_to(map_seoul)\n",
        "map_seoul                  "
      ],
      "execution_count": null,
      "outputs": []
    },
    {
      "cell_type": "code",
      "metadata": {
        "id": "mErYcyAZNZIu"
      },
      "source": [
        "# map = folium.Map(location=map_seoul, zoom_start=10)\n",
        "\n",
        "# folium.Choropleth(\n",
        "#     geo_data = geo_data,\n",
        "#     data = new_firm,\n",
        "#     columns('동','개수'),\n",
        "#     key_on = 'feature.properties.동',\n",
        "#     fill_color = 'BuPu',\n",
        "#     #legend_name=''\n",
        "# ).add_to(map)"
      ],
      "execution_count": null,
      "outputs": []
    },
    {
      "cell_type": "markdown",
      "metadata": {
        "id": "y4ru_YxbYeWc"
      },
      "source": [
        "3) 세 번째 시도: scatterplot"
      ]
    },
    {
      "cell_type": "code",
      "metadata": {
        "id": "vGHs90n_Q4Re"
      },
      "source": [
        "sns.scatterplot(x='경도', y='위도', data=new_firm)"
      ],
      "execution_count": null,
      "outputs": []
    },
    {
      "cell_type": "markdown",
      "metadata": {
        "id": "muKsMO2YRyhC"
      },
      "source": [
        "4) 네 번째 시도: gpd  \n",
        "- 참고 링크: [GIS 공간정보 데이터의 구성 및 기본 이해하기](https://yganalyst.github.io/spatial_analysis/spatial_analysis_1/)"
      ]
    },
    {
      "cell_type": "code",
      "metadata": {
        "id": "3HnwvUi2SJBU"
      },
      "source": [
        "! pip install geopandas"
      ],
      "execution_count": null,
      "outputs": []
    },
    {
      "cell_type": "code",
      "metadata": {
        "id": "Xc_C0UNxSFTf"
      },
      "source": [
        "import geopandas as gpd\n",
        "from shapely.geometry import Polygon, LineString, Point"
      ],
      "execution_count": null,
      "outputs": []
    },
    {
      "cell_type": "code",
      "metadata": {
        "id": "aIpAvecQR1hH"
      },
      "source": [
        "seoul_area = gpd.GeoDataFrame.from_file('data/ect/LARD_ADM_SECT_SGG_11.shp', encoding='cp949')\n",
        "seoul_area\n",
        "# pt_119 = pd.read_csv('data/서울시 안전센터관할 위치정보 (좌표계_ WGS1984).csv', encoding='cp949', dtype=str)"
      ],
      "execution_count": null,
      "outputs": []
    },
    {
      "cell_type": "code",
      "metadata": {
        "id": "_Ywesv0XSX3g"
      },
      "source": [
        "new_firm['경도'] = new_firm['경도'].astype(float)\n",
        "new_firm['위도'] = new_firm['위도'].astype(float)\n",
        "new_firm['geometry'] = new_firm.apply(lambda row : Point([row['경도'], row['위도']]), axis=1)\n",
        "new_firm = gpd.GeoDataFrame(new_firm, geometry='geometry')\n",
        "\n",
        "new_firm.head()"
      ],
      "execution_count": null,
      "outputs": []
    },
    {
      "cell_type": "code",
      "metadata": {
        "id": "-6PbUxDZS9mv"
      },
      "source": [
        "print(seoul_area.crs)\n",
        "print(new_firm.crs)"
      ],
      "execution_count": null,
      "outputs": []
    },
    {
      "cell_type": "code",
      "metadata": {
        "id": "-Vy6zPlCTHXp"
      },
      "source": [
        "seoul_area.crs = {'init': 'epsg:5179'}\n",
        "print(seoul_area.crs)\n",
        "\n",
        "new_firm.crs = {'init':'epsg:4326'}\n",
        "print(new_firm.crs)"
      ],
      "execution_count": null,
      "outputs": []
    },
    {
      "cell_type": "code",
      "metadata": {
        "id": "PeqH8z2PTkbf"
      },
      "source": [
        "new_firm = new_firm.to_crs({'init':'epsg:5179'})\n",
        "print(new_firm.crs)"
      ],
      "execution_count": null,
      "outputs": []
    },
    {
      "cell_type": "code",
      "metadata": {
        "id": "xn3DVlGITtkw"
      },
      "source": [
        "ax = seoul_area.plot(column=\"SGG_NM\", figsize=(15,15), alpha=0.8)\n",
        "new_firm.plot(ax=ax, marker='v', color='black', label='new_firm')\n",
        "ax.set_title(\"Seoul\", fontsize=20)\n",
        "ax.set_axis_off()\n",
        "plt.legend()\n",
        "plt.show()"
      ],
      "execution_count": null,
      "outputs": []
    },
    {
      "cell_type": "code",
      "metadata": {
        "id": "yC7Yi0m8T1P4"
      },
      "source": [
        ""
      ],
      "execution_count": null,
      "outputs": []
    }
  ]
}